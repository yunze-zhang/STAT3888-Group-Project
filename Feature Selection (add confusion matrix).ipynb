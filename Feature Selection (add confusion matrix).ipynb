{
 "cells": [
  {
   "cell_type": "markdown",
   "id": "4c59b382",
   "metadata": {},
   "source": [
    "# I have removed the ABSHID and SF2SA1QN"
   ]
  },
  {
   "cell_type": "code",
   "execution_count": 468,
   "id": "abd50776",
   "metadata": {},
   "outputs": [],
   "source": [
    "import pandas as pd\n",
    "import numpy as np\n",
    "import matplotlib.pyplot as plt\n",
    "from sklearn.decomposition import PCA\n",
    "from sklearn.model_selection import train_test_split,GridSearchCV\n",
    "from sklearn.model_selection import KFold\n",
    "from sklearn.feature_extraction import DictVectorizer\n",
    "from sklearn.tree import DecisionTreeClassifier\n",
    "from sklearn.ensemble import GradientBoostingClassifier, RandomForestClassifier\n",
    "from sklearn.neighbors import KNeighborsClassifier\n",
    "from sklearn.model_selection import cross_val_score\n",
    "from sklearn.linear_model import LogisticRegression\n",
    "from sklearn.ensemble import RandomForestRegressor\n",
    "from sklearn.preprocessing import MinMaxScaler,StandardScaler\n",
    "from sklearn.feature_selection import VarianceThreshold\n",
    "from sklearn.feature_selection import SelectKBest\n",
    "from sklearn.feature_selection import chi2\n",
    "from sklearn.decomposition import PCA\n",
    "from sklearn.cluster import KMeans\n",
    "from sklearn.svm import LinearSVC\n",
    "from sklearn.cluster import KMeans\n",
    "from sklearn.preprocessing import StandardScaler\n",
    "from pyecharts.charts import HeatMap\n",
    "import pyecharts.options as opts\n",
    "from copy import copy\n",
    "import seaborn as sns\n",
    "import plotly as py\n",
    "import plotly.graph_objs as go\n",
    "import plotly.express as px\n",
    "import plotly.figure_factory as ff\n",
    "import lightgbm\n",
    "from sklearn.metrics import plot_confusion_matrix, confusion_matrix, f1_score\n",
    "from sklearn.multiclass import OneVsRestClassifier\n",
    "from sklearn.cluster import kmeans_plusplus\n",
    "from sklearn.naive_bayes import GaussianNB\n",
    "import warnings\n",
    "warnings.filterwarnings(\"ignore\")"
   ]
  },
  {
   "cell_type": "code",
   "execution_count": 513,
   "id": "a5e98f08",
   "metadata": {},
   "outputs": [],
   "source": [
    "## mytest_data consists of \"ABSPID\" ,ten response variables and predictor variables (6 confounders + nutritions)\n",
    "file_name = \"mytest_data.csv\"\n",
    "wholedata = pd.read_csv(file_name)\n",
    "col_y = [\"ABSPID\", \"BMISC\", \"HCHOLBC\", \"CHOLRESB\", \"CHOLNTR\", \"HDLCHREB\", \"LDLNTR\",\n",
    "                \"LDLRESB\", \"DIASTOL\", \"SYSTOL\", \"HSUGBC\"]\n",
    "confounders = [\"ADTOTSE\", \"SMKSTAT\", \"AGEC\", \"EXLWTBC\", \"SEX\", \"DIAHBRSK\"]\n",
    "data_y = wholedata[col_y]\n",
    "data_x = wholedata.iloc[:,17:206] #Nutrition Data\n"
   ]
  },
  {
   "cell_type": "markdown",
   "id": "a9c6bf32",
   "metadata": {},
   "source": [
    "# Dimensional reduction and feature selection\n"
   ]
  },
  {
   "cell_type": "markdown",
   "id": "d1669fcb",
   "metadata": {},
   "source": [
    "## High Correlation Filter"
   ]
  },
  {
   "cell_type": "code",
   "execution_count": 417,
   "id": "34bdfada",
   "metadata": {},
   "outputs": [
    {
     "name": "stdout",
     "output_type": "stream",
     "text": [
      "(2933, 11)\n",
      "(2933, 11)\n",
      "['CHOLRESB', 'LDLRESB']\n"
     ]
    }
   ],
   "source": [
    "class cal_corr:\n",
    "    def __init__(self, df, n_clusters, threshold):\n",
    "        self.df = self.handle_df(df.copy())\n",
    "        self.n_clusters = n_clusters\n",
    "        self.threshold = threshold\n",
    "\n",
    "        self.corr = None\n",
    "        \n",
    "\n",
    "    def corr_matrix(self):\n",
    "\n",
    "        return self.corr\n",
    "    \n",
    "\n",
    "    def corr_pairs(self):\n",
    "\n",
    "        return self.pairs\n",
    "        \n",
    "        \n",
    "    def handle_df(self,df):\n",
    "\n",
    "        \n",
    "        for item in df.select_dtypes(include=[\"object\"]):\n",
    "            df[item] = df[item].astype('category').cat.codes\n",
    "        \n",
    "        df = df.fillna(df.median())\n",
    "        df = pd.DataFrame(StandardScaler().fit_transform(df),columns=df.columns)\n",
    "        print(df.shape)\n",
    "        return df\n",
    "        \n",
    "    def order_by_kmeans(self):\n",
    "\n",
    "        kk = KMeans(n_clusters = self.n_clusters)\n",
    "        res = kk.fit_predict(self.df.T)\n",
    "        \n",
    "        self.df = self.df.append(pd.Series(res,index=self.df.columns),ignore_index=True)\n",
    "        self.df.sort_values(by = self.df.shape[0]-1,axis=1,inplace=True)\n",
    "        self.df.drop(self.df.shape[0]-1,inplace=True)\n",
    "        \n",
    "        print(self.df.shape)\n",
    "        \n",
    "    def corr_heat_map(self):\n",
    "\n",
    "        self.order_by_kmeans()\n",
    "        \n",
    "        self.corr = self.df.corr(method=\"pearson\")\n",
    "        self.corr = self.corr.round(3)\n",
    "        self.corr = self.corr.apply(lambda x: abs(x))\n",
    "        myvalues = []\n",
    "        for i in range(len(self.corr.index)):\n",
    "            for j in range(len(self.corr.index)):\n",
    "                tmp = [i, j, self.corr.iloc[i, j]]\n",
    "                myvalues.append(copy(tmp))\n",
    "        self.__setattr__('pairs',myvalues)        \n",
    "        \n",
    "        heat_map = HeatMap(init_opts=opts.InitOpts(width=\"1440px\", height=\"1440px\"))\\\n",
    "            .add_xaxis(list(self.corr.columns))\\\n",
    "            .add_yaxis(\"corr\", list(self.corr.index), myvalues) \\\n",
    "            .set_global_opts(\n",
    "                title_opts=opts.TitleOpts(title=\"correlation of variables\"),\n",
    "                datazoom_opts=[opts.DataZoomOpts(is_show=True, is_realtime=True), ],\n",
    "                visualmap_opts=opts.VisualMapOpts(min_=-1.2, max_=1.2, pos_right=20),\n",
    "                toolbox_opts=opts.ToolboxOpts(is_show=True),\n",
    "                xaxis_opts=opts.AxisOpts(type_=\"category\", is_scale=True, is_inverse=True, axislabel_opts=opts.LabelOpts(is_show=True, rotate=-60)),\n",
    "                yaxis_opts=opts.AxisOpts(is_scale=True, is_inverse=False, axislabel_opts=opts.LabelOpts(is_show=True, position=\"right\")),\n",
    "                tooltip_opts=opts.TooltipOpts(is_show=True))\\\n",
    "            .set_series_opts(label_opts=opts.LabelOpts(is_show=True, position=\"insideBottom\"))\n",
    "\n",
    "        heat_map.render()\n",
    "        \n",
    "\n",
    "    def drop_hight_corr(self):\n",
    "\n",
    "        \n",
    "        cor_pair = self.pairs\n",
    "        cor_pair.sort(key=lambda x:x[2],reverse=True)\n",
    "        del_pair = []\n",
    "        del_col = []\n",
    "        for item in cor_pair:\n",
    "            if (item[0]==item[1])|(set(item[:2]) in del_pair)|(item[0] in del_col)|(item[1] in del_col):\n",
    "                continue\n",
    "\n",
    "            if item[2]>self.threshold:\n",
    "                c1 = self.corr.iloc[item[0],[x for x in range(self.corr.shape[0]) if x not in del_col]].mean()\n",
    "                c2 = self.corr.iloc[item[1],[x for x in range(self.corr.shape[0]) if x not in del_col]].mean()\n",
    "\n",
    "                del_col.append(item[0] if c1>c2 else item[1])\n",
    "                del_pair.append(set(item[:2]))\n",
    "            else:\n",
    "                break\n",
    "            \n",
    "        del_col_name = self.corr.iloc[:,del_col].columns\n",
    "        \n",
    "        return list(del_col_name)\n",
    "\n",
    "#  Response variables(y) dataset\n",
    "if __name__ == '__main__':\n",
    "    c = cal_corr(df=data_y, n_clusters=5, threshold=0.8)\n",
    "    c.corr_heat_map()\n",
    "    del_col = c.drop_hight_corr()\n",
    "    print(del_col)"
   ]
  },
  {
   "cell_type": "markdown",
   "id": "547f7b2d",
   "metadata": {},
   "source": [
    "## PCA \n"
   ]
  },
  {
   "cell_type": "code",
   "execution_count": 284,
   "id": "e686b983",
   "metadata": {},
   "outputs": [
    {
     "name": "stdout",
     "output_type": "stream",
     "text": [
      "The variance value of principal component after dimensionality reduction is： [4.20198013e+02 6.11761373e+01 2.65686355e+01 6.42767395e+00\n",
      " 1.70234749e+00 1.26650320e+00 2.40600810e-01 2.26410704e-01\n",
      " 1.02803677e-01 3.95570335e-02]\n",
      "The ratio of variance value of principal component to total variance after dimensionality reduction is： [8.11273447e-01 1.18112352e-01 5.12958840e-02 1.24098664e-02\n",
      " 3.28671072e-03 2.44522911e-03 4.64526348e-04 4.37129606e-04\n",
      " 1.98482360e-04 7.63724956e-05]\n",
      "The component of the maximum variance after dimensionality reduction is： [[ 7.00146597e-02 -7.41489817e-03  1.04963658e-02  2.57391774e-03\n",
      "  -3.41123971e-03  1.62760253e-03  4.83928983e-03  4.05896542e-01\n",
      "   9.11117980e-01 -6.98253906e-04]\n",
      " [-2.14417539e-01 -1.62518553e-02 -3.15277094e-02 -4.35456059e-03\n",
      "   7.41078770e-03 -5.33378670e-03 -3.15730563e-02 -8.84703943e-01\n",
      "   4.11054946e-01  7.57616901e-04]\n",
      " [ 9.71397923e-01 -3.57845634e-02 -1.70547295e-02 -3.02571222e-03\n",
      "  -6.61172212e-02  5.03172693e-04 -8.02243283e-03 -2.23069549e-01\n",
      "   2.44343024e-02 -3.51611672e-03]\n",
      " [ 1.43903118e-02  2.61297116e-02  7.29538891e-01  1.54489370e-01\n",
      "   9.59541778e-02  1.51689321e-01  6.38958995e-01 -4.94625772e-02\n",
      "   8.99423726e-03 -1.81757673e-03]\n",
      " [-2.68560154e-02 -9.92830520e-01  6.64514298e-02  1.52753712e-02\n",
      "   6.72621761e-02 -6.31425734e-06 -4.69905491e-02  1.78599375e-02\n",
      "  -1.43111270e-02 -4.07564285e-02]\n",
      " [ 6.66081887e-02  8.31041344e-02  1.17961887e-01  1.81719146e-02\n",
      "   9.46937839e-01 -6.23683993e-02 -2.71648276e-01 -3.56606605e-03\n",
      "   8.39578143e-04  4.95277660e-03]\n",
      " [-1.14322704e-02  5.39503116e-02  6.22135892e-01  1.87701367e-01\n",
      "  -2.89959863e-01 -1.34921801e-01 -6.81803153e-01 -1.38614852e-04\n",
      "  -3.47493405e-03  8.67499139e-02]\n",
      " [-3.25067745e-03  4.59977567e-02  4.75481637e-02  2.69815690e-02\n",
      "  -2.28713976e-02  7.62754557e-03 -6.38845648e-02 -7.76264239e-04\n",
      "  -1.76590383e-04 -9.95098817e-01]\n",
      " [ 2.32535158e-04 -4.67531342e-03  1.79968465e-01 -6.64780437e-01\n",
      "  -1.95905480e-02 -7.13105194e-01  1.27365195e-01 -2.83596790e-03\n",
      "   1.51874984e-03 -2.28332851e-02]\n",
      " [ 1.68703491e-03 -7.11150725e-03 -1.62310285e-01  7.05437381e-01\n",
      "   1.24766937e-02 -6.68047970e-01  1.71718371e-01  3.24749082e-05\n",
      "  -1.07901451e-06 -5.39388665e-03]]\n",
      "The number of principal components after dimensionality reduction is： 10\n"
     ]
    },
    {
     "data": {
      "image/png": "[encoded data removed]",
      "text/plain": [
       "<Figure size 720x288 with 1 Axes>"
      ]
     },
     "metadata": {
      "needs_background": "light"
     },
     "output_type": "display_data"
    }
   ],
   "source": [
    "pca_y = PCA(n_components=10)\n",
    "Person_ID = [\"ABSPID\"]\n",
    "y = data_y.drop(Person_ID, axis = 1)\n",
    "pca_y.fit(y)\n",
    "projected=pca_y.fit_transform(y)\n",
    "print('The variance value of principal component after dimensionality reduction is：',pca_y.explained_variance_)\n",
    "print('The ratio of variance value of principal component to total variance after dimensionality reduction is：',pca_y.explained_variance_ratio_)\n",
    "print('The component of the maximum variance after dimensionality reduction is：',pca_y.components_)\n",
    "print('The number of principal components after dimensionality reduction is：',pca_y.n_components_)\n",
    "s_y = pca_y.explained_variance_\n",
    "c_s_y = pd.DataFrame({'b': s_y,'b_sum': s_y.cumsum() / s_y.sum()})\n",
    "c_s_y['b_sum'].plot(style= '--ko',figsize= (10, 4))\n",
    "plt.rcParams['font.sans-serif'] = ['SimHei'] \n",
    "plt.rcParams['axes.unicode_minus'] = False  \n",
    "plt.title('PCA Cumulative proportion of each component')\n",
    "plt.grid()\n",
    "plt.savefig('./PCA_Y.jpg')\n",
    "plt.show()"
   ]
  },
  {
   "cell_type": "code",
   "execution_count": 285,
   "id": "cc6e811d",
   "metadata": {},
   "outputs": [
    {
     "name": "stdout",
     "output_type": "stream",
     "text": [
      "The variance value of principal component after dimensionality reduction is： [5.38315967e+07 2.69846922e+07 2.29930526e+07 1.46169568e+07\n",
      " 4.98696750e+06 2.89511648e+06 2.04703164e+06 1.41706641e+06\n",
      " 1.20485600e+06 1.08094852e+06 1.04406314e+06 9.86245415e+05\n",
      " 8.08190248e+05 7.49393312e+05 5.63263058e+05 5.20062260e+05\n",
      " 3.97625574e+05 3.27281373e+05 1.96689942e+05 1.69964411e+05\n",
      " 1.43847851e+05 1.14260937e+05 1.10164115e+05 1.01062612e+05\n",
      " 7.27508190e+04 5.82530644e+04 4.61640125e+04 4.39105838e+04\n",
      " 3.57441891e+04 3.22655819e+04 3.04370842e+04 2.88497623e+04\n",
      " 2.81844394e+04 1.77303010e+04 1.64664456e+04 1.40511010e+04\n",
      " 1.05407637e+04 8.76471928e+03 7.85503133e+03 7.29604815e+03\n",
      " 6.28457952e+03 5.39507266e+03 5.28185179e+03 4.57268550e+03\n",
      " 4.24810104e+03 3.81813703e+03 3.50347795e+03 3.07124734e+03\n",
      " 2.93945597e+03 2.76111213e+03 2.31103225e+03 2.14032971e+03\n",
      " 1.78896754e+03 1.58456672e+03 1.47884936e+03 1.38785534e+03\n",
      " 1.13678995e+03 7.79359930e+02 5.77624491e+02 4.71164042e+02\n",
      " 3.94748539e+02 3.57901736e+02 3.28114667e+02 2.93074369e+02\n",
      " 2.46965077e+02 1.90685599e+02 1.66773575e+02 1.43506812e+02\n",
      " 1.33184408e+02 1.00430372e+02 9.12463595e+01 5.77509109e+01\n",
      " 5.32236198e+01 4.43225698e+01 4.08386957e+01 3.88348640e+01\n",
      " 3.50271231e+01 3.23841591e+01 3.09725893e+01 2.86135679e+01\n",
      " 2.77112147e+01 2.28425864e+01 2.14902774e+01 2.11109502e+01\n",
      " 1.75554787e+01 1.54660037e+01 1.28684684e+01 1.19340531e+01\n",
      " 9.90270472e+00 9.15798692e+00 8.31865153e+00 8.14398995e+00\n",
      " 4.99049359e+00 4.37972503e+00 4.13877204e+00 3.60744225e+00\n",
      " 3.21163969e+00 3.00896907e+00 2.89180433e+00 2.73297631e+00\n",
      " 2.62178224e+00 2.32796087e+00 2.01512017e+00 1.98644476e+00\n",
      " 1.79797129e+00 1.73534092e+00 1.68580545e+00 1.60510375e+00\n",
      " 1.48994407e+00 1.37941803e+00 1.30187022e+00 1.17126221e+00\n",
      " 1.05998113e+00 9.88252770e-01 9.38230732e-01 8.28955568e-01\n",
      " 7.74761755e-01 7.37260476e-01 7.22199029e-01 6.51693267e-01\n",
      " 6.43838235e-01 5.85189016e-01 5.21206545e-01 5.17052745e-01\n",
      " 4.83844070e-01 4.33393427e-01 4.22825250e-01 3.96425242e-01\n",
      " 3.89758295e-01 3.54343908e-01 3.34736116e-01 3.03476756e-01\n",
      " 2.94347309e-01 2.74530250e-01 2.43626149e-01 2.26034636e-01\n",
      " 2.11964847e-01 1.88248015e-01 1.47792474e-01 1.36723137e-01\n",
      " 1.22988976e-01 9.58334866e-02 7.95028853e-02 6.89943916e-02\n",
      " 5.52514030e-02 4.01032615e-02 3.03551979e-02 2.10692067e-02\n",
      " 1.51430315e-02 1.47233635e-02 7.38566575e-03 7.19794773e-03\n",
      " 6.76024788e-03 6.48639250e-03 5.20659531e-03 4.57236848e-03\n",
      " 4.14377476e-03 3.03576436e-03 2.02851761e-03 4.41954614e-09\n",
      " 1.80360513e-09 1.57633553e-09 7.17995330e-10 5.82812364e-10\n",
      " 3.77673618e-10 2.73821720e-11 1.05272686e-11 8.24532844e-12\n",
      " 6.44284732e-12 6.21237487e-12 4.77496386e-12 4.46712028e-12\n",
      " 3.03286135e-12 1.87232683e-12 1.67951137e-12 1.65626432e-12\n",
      " 1.31171145e-12 1.26174598e-12 1.01233243e-12 8.47874034e-13\n",
      " 1.98158789e-13 6.11878447e-14 3.46470588e-25 3.46470588e-25\n",
      " 3.46470588e-25 3.46470588e-25 3.46470588e-25 3.46470588e-25\n",
      " 3.46470415e-25]\n",
      "The ratio of variance value of principal component to total variance after dimensionality reduction is： [3.87812647e-01 1.94402647e-01 1.65646147e-01 1.05303224e-01\n",
      " 3.59270240e-02 2.08569474e-02 1.47471895e-02 1.02088050e-02\n",
      " 8.68000248e-03 7.78735040e-03 7.52162142e-03 7.10509196e-03\n",
      " 5.82235004e-03 5.39876618e-03 4.05784986e-03 3.74662343e-03\n",
      " 2.86456720e-03 2.35779474e-03 1.41699024e-03 1.22445464e-03\n",
      " 1.03630617e-03 8.23156644e-04 7.93642389e-04 7.28073504e-04\n",
      " 5.24110177e-04 4.19665707e-04 3.32573971e-04 3.16339860e-04\n",
      " 2.57507661e-04 2.32447140e-04 2.19274309e-04 2.07838953e-04\n",
      " 2.03045845e-04 1.27732324e-04 1.18627279e-04 1.01226696e-04\n",
      " 7.59375854e-05 6.31426372e-05 5.65890793e-05 5.25620624e-05\n",
      " 4.52752578e-05 3.88670881e-05 3.80514242e-05 3.29424609e-05\n",
      " 3.06040952e-05 2.75065560e-05 2.52396946e-05 2.21258263e-05\n",
      " 2.11763773e-05 1.98915557e-05 1.66490981e-05 1.54193259e-05\n",
      " 1.28880486e-05 1.14155079e-05 1.06539007e-05 9.99836313e-06\n",
      " 8.18964230e-06 5.61465117e-06 4.16131225e-06 3.39435174e-06\n",
      " 2.84384052e-06 2.57838942e-06 2.36379794e-06 2.11136124e-06\n",
      " 1.77918148e-06 1.37373386e-06 1.20146727e-06 1.03384926e-06\n",
      " 9.59484783e-07 7.23518728e-07 6.57355426e-07 4.16048101e-07\n",
      " 3.83432670e-07 3.19307881e-07 2.94209417e-07 2.79773447e-07\n",
      " 2.52341787e-07 2.33301392e-07 2.23132186e-07 2.06137365e-07\n",
      " 1.99636648e-07 1.64562161e-07 1.54819881e-07 1.52087138e-07\n",
      " 1.26472872e-07 1.11419913e-07 9.27067949e-08 8.59750968e-08\n",
      " 7.13408920e-08 6.59758091e-08 5.99290837e-08 5.86707899e-08\n",
      " 3.59524266e-08 3.15523384e-08 2.98164691e-08 2.59886723e-08\n",
      " 2.31372384e-08 2.16771623e-08 2.08330862e-08 1.96888601e-08\n",
      " 1.88877977e-08 1.67710549e-08 1.45172934e-08 1.43107105e-08\n",
      " 1.29529133e-08 1.25017127e-08 1.21448501e-08 1.15634603e-08\n",
      " 1.07338290e-08 9.93757921e-09 9.37891063e-09 8.43798669e-09\n",
      " 7.63629752e-09 7.11955331e-09 6.75918542e-09 5.97194720e-09\n",
      " 5.58152507e-09 5.31135902e-09 5.20285360e-09 4.69491723e-09\n",
      " 4.63832815e-09 4.21580847e-09 3.75486707e-09 3.72494234e-09\n",
      " 3.48570098e-09 3.12224534e-09 3.04611027e-09 2.85591979e-09\n",
      " 2.80788989e-09 2.55275818e-09 2.41150007e-09 2.18630194e-09\n",
      " 2.12053173e-09 1.97776602e-09 1.75512724e-09 1.62839477e-09\n",
      " 1.52703344e-09 1.35617306e-09 1.06472395e-09 9.84978427e-10\n",
      " 8.86035025e-10 6.90401927e-10 5.72753295e-10 4.97048188e-10\n",
      " 3.98041190e-10 2.88911214e-10 2.18684386e-10 1.51786410e-10\n",
      " 1.09093163e-10 1.06069798e-10 5.32076839e-11 5.18553291e-11\n",
      " 4.87020595e-11 4.67291553e-11 3.75092628e-11 3.29401770e-11\n",
      " 2.98525096e-11 2.18702005e-11 1.46138111e-11 3.18392170e-17\n",
      " 1.29935005e-17 1.13562088e-17 5.17256939e-18 4.19868663e-18\n",
      " 2.72082967e-18 1.97266164e-19 7.58403644e-20 5.94008508e-20\n",
      " 4.64154479e-20 4.47550823e-20 3.43997111e-20 3.21819497e-20\n",
      " 2.18492867e-20 1.34885842e-20 1.20995064e-20 1.19320304e-20\n",
      " 9.44980870e-21 9.08984829e-21 7.29302755e-21 6.10823928e-21\n",
      " 1.42757208e-21 4.40808400e-22 2.49603735e-33 2.49603735e-33\n",
      " 2.49603735e-33 2.49603735e-33 2.49603735e-33 2.49603735e-33\n",
      " 2.49603610e-33]\n",
      "The component of the maximum variance after dimensionality reduction is： [[ 2.68656664e-02  2.56621350e-05 -4.01517827e-02 ...  1.52020445e-05\n",
      "   4.26985795e-04  3.63200050e-04]\n",
      " [ 3.25518407e-02  6.55001748e-05  2.71020890e-02 ...  6.40162924e-06\n",
      "  -2.46354992e-04 -2.24227972e-04]\n",
      " [-5.48160934e-02 -4.27049839e-05 -7.32057639e-03 ... -2.69749317e-04\n",
      "  -1.02476340e-04 -1.31006364e-04]\n",
      " ...\n",
      " [ 0.00000000e+00  4.58665522e-21 -5.03693354e-23 ... -5.67397983e-22\n",
      "   9.83608014e-22 -4.93869036e-22]\n",
      " [ 0.00000000e+00 -1.75934665e-21 -1.07705201e-23 ...  2.02749373e-22\n",
      "  -3.50469637e-22  2.47288177e-22]\n",
      " [-0.00000000e+00 -2.62338928e-15  2.75846301e-17 ... -5.77062276e-16\n",
      "  -1.07361395e-15  3.97203599e-15]]\n",
      "The number of principal components after dimensionality reduction is： 189\n"
     ]
    },
    {
     "data": {
      "image/png": "[encoded data removed]",
      "text/plain": [
       "<Figure size 720x288 with 1 Axes>"
      ]
     },
     "metadata": {
      "needs_background": "light"
     },
     "output_type": "display_data"
    }
   ],
   "source": [
    "pca = PCA(n_components=189)\n",
    "pca.fit(data_x)\n",
    "projected=pca.fit_transform(data_x)\n",
    "print('The variance value of principal component after dimensionality reduction is：',pca.explained_variance_)\n",
    "print('The ratio of variance value of principal component to total variance after dimensionality reduction is：',pca.explained_variance_ratio_)\n",
    "print('The component of the maximum variance after dimensionality reduction is：',pca.components_)\n",
    "print('The number of principal components after dimensionality reduction is：',pca.n_components_)\n",
    "s = pca.explained_variance_\n",
    "c_s = pd.DataFrame({'b': s,'b_sum': s.cumsum() / s.sum()})\n",
    "c_s['b_sum'].plot(style= '--ko',figsize= (10, 4))\n",
    "plt.rcParams['font.sans-serif'] = ['SimHei'] \n",
    "plt.rcParams['axes.unicode_minus'] = False  \n",
    "plt.title('PCA Cumulative proportion of each component')\n",
    "plt.grid()\n",
    "plt.savefig('./PCA_X.jpg')\n",
    "plt.show()"
   ]
  },
  {
   "cell_type": "markdown",
   "id": "fdd9a5ce",
   "metadata": {},
   "source": [
    "# Train/Test"
   ]
  },
  {
   "cell_type": "code",
   "execution_count": 276,
   "id": "affe3426",
   "metadata": {},
   "outputs": [],
   "source": [
    "x = data_x\n",
    "target_col = [\"HCHOLBC\"]\n",
    "y = wholedata[target_col]\n",
    "X_train, X_test, y_train, y_test = train_test_split(x, y, test_size = 0.2,random_state=3,shuffle=False)\n",
    "pca = PCA(n_components=5).fit(X_train)  \n",
    "x_trainPca = pca.transform(X_train) \n",
    "x_testPca = pca.transform(X_test)"
   ]
  },
  {
   "cell_type": "code",
   "execution_count": 418,
   "id": "1135fc34",
   "metadata": {},
   "outputs": [],
   "source": [
    "categ_y =[\"HCHOLBC\",\"CHOLNTR\", \"HDLCHREB\", \"LDLNTR\", \"HSUGBC\"] # categorical response variables\n",
    "Conti_y = col_y = [\"BMISC\",\"DIASTOL\", \"SYSTOL\"] # numeric response variables"
   ]
  },
  {
   "cell_type": "code",
   "execution_count": 445,
   "id": "925383ad",
   "metadata": {},
   "outputs": [],
   "source": [
    "def plot(model,X,y):\n",
    "    xmin,xmax = X[:,0].min(),X[:,0].max()\n",
    "    ymin,ymax = X[:,1].min(),X[:,1].max()\n",
    "    \n",
    "    x_line = np.linspace(xmin,xmax,100)\n",
    "    y_line = np.linspace(ymin,ymax,100)\n",
    "    \n",
    "    xx,yy = np.meshgrid(x_line,y_line)\n",
    "    \n",
    "    X_pred = np.c_[xx.ravel(),yy.ravel()]\n",
    "    y_pred = model.predict(X_pred)\n",
    "    \n",
    "    plt.scatter(X[:,0],X[:,1],c=y)\n",
    "    plt.contour(xx,yy,y_pred.reshape(xx.shape))\n",
    "   "
   ]
  },
  {
   "cell_type": "code",
   "execution_count": 505,
   "id": "f6b02439",
   "metadata": {},
   "outputs": [],
   "source": [
    "col_target = ['HCHOLBC']# can change\n",
    "y_target = wholedata[col_target]\n",
    "target = y_target.values\n",
    "x = wholedata.iloc[:,11:206]# can change to the new dataset after PCA\n",
    "y = wholedata[col_target]\n",
    "x_train,x_test,y_train,y_test = train_test_split(x,y,train_size=0.8)"
   ]
  },
  {
   "cell_type": "code",
   "execution_count": 508,
   "id": "14966e6f",
   "metadata": {},
   "outputs": [
    {
     "data": {
      "text/plain": [
       "0.8449744463373083"
      ]
     },
     "execution_count": 508,
     "metadata": {},
     "output_type": "execute_result"
    }
   ],
   "source": [
    "# Just a test of the LogisticRegression\n",
    "log_reg = LogisticRegression()\n",
    "log_reg.fit(x_train,y_train)\n",
    "y_predict = log_reg.predict(x_test)\n",
    "log_reg.score(x_test,y_test)"
   ]
  },
  {
   "cell_type": "markdown",
   "id": "0d7e2c28",
   "metadata": {},
   "source": [
    "# Confusion matrix (for categorical response variables)"
   ]
  },
  {
   "cell_type": "code",
   "execution_count": 511,
   "id": "5768d4aa",
   "metadata": {},
   "outputs": [],
   "source": [
    "def plot_ConfusionMatrix(confusionMatrix, response, title=None,  cmap=plt.cm.Blues):\n",
    "    #labels shows different categories of the response variable\n",
    "    labels = np.array(data_y[response]).tolist()\n",
    "    plt.rclabels = np.array(data_y[response]).tolist()\n",
    "    new_labels=[]\n",
    "    for i in labels:\n",
    "        if i not in new_labels:\n",
    "            new_labels.append(i)\n",
    "    # Nomalization\n",
    "    confusionMatrix = confusionMatrix.astype('float') / confusionMatrix.sum(axis=1)[:, np.newaxis]\n",
    "    str_confusionMatrix = confusionMatrix.astype(np.str).tolist()\n",
    "    for row in str_confusionMatrix:\n",
    "        print('\\t'.join(row))\n",
    "    for i in range(confusionMatrix.shape[0]):\n",
    "        for j in range(confusionMatrix.shape[1]):\n",
    "            if int(confusionMatrix[i, j]*100 + 0.5) == 0:\n",
    "                confusionMatrix[i, j]=0\n",
    "    fig, ax = plt.subplots()\n",
    "    im = ax.imshow(cm, interpolation='nearest', cmap=cmap)\n",
    "    # ax.figure.colorbar(im, ax=ax) \n",
    "    ax.set(xticks=np.arange(confusionMatrix.shape[1]),\n",
    "           yticks=np.arange(confusionMatrix.shape[0]),\n",
    "           xticklabels=new_labels, yticklabels=new_labels,\n",
    "           title=title,\n",
    "           ylabel='Actual',\n",
    "           xlabel='Predicted')\n",
    "    # grids\n",
    "    ax.set_xticks(np.arange(confusionMatrix.shape[1]+1)-.5, minor=True)\n",
    "    ax.set_yticks(np.arange(confusionMatrix.shape[0]+1)-.5, minor=True)\n",
    "    ax.grid(which=\"minor\", color=\"gray\", linestyle='-', linewidth=0.2)\n",
    "    ax.tick_params(which=\"minor\", bottom=False, left=False)\n",
    "    plt.setp(ax.get_xticklabels(), rotation=45, ha=\"right\",\n",
    "             rotation_mode=\"anchor\")\n",
    "    fmt = 'd'\n",
    "    thresh = confusionMatrix.max() / 2.\n",
    "    for i in range(confusionMatrix.shape[0]):\n",
    "        for j in range(confusionMatrix.shape[1]):\n",
    "            if int(confusionMatrix[i, j]*100 + 0.5) > 0:\n",
    "                ax.text(j, i, format(int(confusionMatrix[i, j]*100 + 0.5) , fmt) + '%',\n",
    "                        ha=\"center\", va=\"center\",\n",
    "                        color=\"white\"  if confusionMatrix[i, j] > thresh else \"black\")\n",
    "    fig.tight_layout()\n",
    "    plt.savefig('ConfusionMatrix of response.jpg', dpi=300)\n",
    "    plt.show()"
   ]
  },
  {
   "cell_type": "code",
   "execution_count": 512,
   "id": "d4f3a350",
   "metadata": {},
   "outputs": [
    {
     "name": "stdout",
     "output_type": "stream",
     "text": [
      "0.0\t0.0\t0.0\t1.0\n",
      "0.0\t0.0\t0.0\t1.0\n",
      "0.0\t0.0\t0.0\t1.0\n",
      "0.004016064257028112\t0.0\t0.0\t0.9959839357429718\n"
     ]
    },
    {
     "data": {
      "image/png": "[encoded data removed]",
      "text/plain": [
       "<Figure size 432x288 with 1 Axes>"
      ]
     },
     "metadata": {
      "needs_background": "light"
     },
     "output_type": "display_data"
    }
   ],
   "source": [
    "# apply the function to the above LogisticRegression\n",
    "y_true = y_test\n",
    "y_pred = y_predict\n",
    "cm = confusion_matrix(y_true, y_pred)\n",
    "plot_ConfusionMatrix(cm,response=['HCHOLBC'], title=None,  cmap=plt.cm.Blues)\n",
    "## show the % of "
   ]
  },
  {
   "cell_type": "code",
   "execution_count": null,
   "id": "9c39df26",
   "metadata": {},
   "outputs": [],
   "source": []
  }
 ],
 "metadata": {
  "kernelspec": {
   "display_name": "Python 3",
   "language": "python",
   "name": "python3"
  },
  "language_info": {
   "codemirror_mode": {
    "name": "ipython",
    "version": 3
   },
   "file_extension": ".py",
   "mimetype": "text/x-python",
   "name": "python",
   "nbconvert_exporter": "python",
   "pygments_lexer": "ipython3",
   "version": "3.8.8"
  },
  "toc": {
   "base_numbering": 1,
   "nav_menu": {},
   "number_sections": true,
   "sideBar": true,
   "skip_h1_title": false,
   "title_cell": "Table of Contents",
   "title_sidebar": "Contents",
   "toc_cell": false,
   "toc_position": {
    "height": "calc(100% - 180px)",
    "left": "10px",
    "top": "150px",
    "width": "164.988px"
   },
   "toc_section_display": true,
   "toc_window_display": true
  }
 },
 "nbformat": 4,
 "nbformat_minor": 5
}
