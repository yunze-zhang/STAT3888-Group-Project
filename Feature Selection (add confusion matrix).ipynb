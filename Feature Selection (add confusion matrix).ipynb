{
 "cells": [
  {
   "cell_type": "markdown",
   "id": "4c59b382",
   "metadata": {},
   "source": [
    "# I have removed the ABSHID and SF2SA1QN"
   ]
  },
  {
   "cell_type": "code",
   "execution_count": 559,
   "id": "abd50776",
   "metadata": {},
   "outputs": [],
   "source": [
    "import pandas as pd\n",
    "import numpy as np\n",
    "import matplotlib.pyplot as plt\n",
    "from sklearn.decomposition import PCA\n",
    "from sklearn.model_selection import train_test_split,GridSearchCV\n",
    "from sklearn.model_selection import KFold\n",
    "from sklearn.feature_extraction import DictVectorizer\n",
    "from sklearn.tree import DecisionTreeClassifier\n",
    "from sklearn.ensemble import GradientBoostingClassifier, RandomForestClassifier\n",
    "from sklearn.neighbors import KNeighborsClassifier\n",
    "from sklearn.model_selection import cross_val_score\n",
    "from sklearn.linear_model import LogisticRegression\n",
    "from sklearn.ensemble import RandomForestRegressor\n",
    "from sklearn.preprocessing import MinMaxScaler,StandardScaler\n",
    "from sklearn.feature_selection import VarianceThreshold\n",
    "from sklearn.feature_selection import SelectKBest\n",
    "from sklearn.feature_selection import chi2\n",
    "from sklearn.decomposition import PCA\n",
    "from sklearn.cluster import KMeans\n",
    "from sklearn.svm import LinearSVC\n",
    "from sklearn.cluster import KMeans\n",
    "from sklearn.preprocessing import StandardScaler\n",
    "from pyecharts.charts import HeatMap\n",
    "import pyecharts.options as opts\n",
    "from copy import copy\n",
    "import seaborn as sns\n",
    "import plotly as py\n",
    "import plotly.graph_objs as go\n",
    "import plotly.express as px\n",
    "import plotly.figure_factory as ff\n",
    "import lightgbm\n",
    "from sklearn.metrics import plot_confusion_matrix, confusion_matrix, f1_score\n",
    "from sklearn.multiclass import OneVsRestClassifier\n",
    "from sklearn.cluster import kmeans_plusplus\n",
    "from sklearn.naive_bayes import GaussianNB\n",
    "import warnings\n",
    "warnings.filterwarnings(\"ignore\")"
   ]
  },
  {
   "cell_type": "code",
   "execution_count": 568,
   "id": "cf0b8114",
   "metadata": {},
   "outputs": [],
   "source": [
    "## mytest_data consists of \"ABSPID\" ,ten response variables and predictor variables (6 confounders + nutritions)\n",
    "file_name = \"mytest_data.csv\"\n",
    "wholedata = pd.read_csv(file_name)\n",
    "col_y = [\"ABSPID\", \"BMISC\", \"HCHOLBC\", \"CHOLRESB\", \"CHOLNTR\", \"HDLCHREB\", \"LDLNTR\",\n",
    "                \"LDLRESB\", \"DIASTOL\", \"SYSTOL\", \"HSUGBC\"]\n",
    "confounders = [\"ADTOTSE\", \"SMKSTAT\", \"AGEC\", \"EXLWTBC\", \"SEX\", \"DIAHBRSK\"]\n",
    "data_conf =wholedata[confounders]\n",
    "data_y = wholedata[col_y]\n",
    "data_x = wholedata.iloc[:,17:206] #Nutrition Data\n"
   ]
  },
  {
   "cell_type": "markdown",
   "id": "aaef9f06",
   "metadata": {},
   "source": [
    "# Dimensional reduction and feature selection\n"
   ]
  },
  {
   "cell_type": "markdown",
   "id": "1c482d5b",
   "metadata": {},
   "source": [
    "## High Correlation Filter"
   ]
  },
  {
   "cell_type": "code",
   "execution_count": 569,
   "id": "bd4b84f9",
   "metadata": {},
   "outputs": [
    {
     "name": "stdout",
     "output_type": "stream",
     "text": [
      "(2933, 11)\n",
      "(2933, 11)\n",
      "['CHOLRESB', 'LDLRESB']\n"
     ]
    }
   ],
   "source": [
    "class cal_corr:\n",
    "    def __init__(self, df, n_clusters, threshold):\n",
    "        self.df = self.handle_df(df.copy())\n",
    "        self.n_clusters = n_clusters\n",
    "        self.threshold = threshold\n",
    "\n",
    "        self.corr = None\n",
    "        \n",
    "\n",
    "    def corr_matrix(self):\n",
    "\n",
    "        return self.corr\n",
    "    \n",
    "\n",
    "    def corr_pairs(self):\n",
    "\n",
    "        return self.pairs\n",
    "        \n",
    "        \n",
    "    def handle_df(self,df):\n",
    "\n",
    "        \n",
    "        for item in df.select_dtypes(include=[\"object\"]):\n",
    "            df[item] = df[item].astype('category').cat.codes\n",
    "        \n",
    "        df = df.fillna(df.median())\n",
    "        df = pd.DataFrame(StandardScaler().fit_transform(df),columns=df.columns)\n",
    "        print(df.shape)\n",
    "        return df\n",
    "        \n",
    "    def order_by_kmeans(self):\n",
    "\n",
    "        kk = KMeans(n_clusters = self.n_clusters)\n",
    "        res = kk.fit_predict(self.df.T)\n",
    "        \n",
    "        self.df = self.df.append(pd.Series(res,index=self.df.columns),ignore_index=True)\n",
    "        self.df.sort_values(by = self.df.shape[0]-1,axis=1,inplace=True)\n",
    "        self.df.drop(self.df.shape[0]-1,inplace=True)\n",
    "        \n",
    "        print(self.df.shape)\n",
    "        \n",
    "    def corr_heat_map(self):\n",
    "\n",
    "        self.order_by_kmeans()\n",
    "        \n",
    "        self.corr = self.df.corr(method=\"pearson\")\n",
    "        self.corr = self.corr.round(3)\n",
    "        self.corr = self.corr.apply(lambda x: abs(x))\n",
    "        myvalues = []\n",
    "        for i in range(len(self.corr.index)):\n",
    "            for j in range(len(self.corr.index)):\n",
    "                tmp = [i, j, self.corr.iloc[i, j]]\n",
    "                myvalues.append(copy(tmp))\n",
    "        self.__setattr__('pairs',myvalues)        \n",
    "        \n",
    "        heat_map = HeatMap(init_opts=opts.InitOpts(width=\"1440px\", height=\"1440px\"))\\\n",
    "            .add_xaxis(list(self.corr.columns))\\\n",
    "            .add_yaxis(\"corr\", list(self.corr.index), myvalues) \\\n",
    "            .set_global_opts(\n",
    "                title_opts=opts.TitleOpts(title=\"correlation of variables\"),\n",
    "                datazoom_opts=[opts.DataZoomOpts(is_show=True, is_realtime=True), ],\n",
    "                visualmap_opts=opts.VisualMapOpts(min_=-1.2, max_=1.2, pos_right=20),\n",
    "                toolbox_opts=opts.ToolboxOpts(is_show=True),\n",
    "                xaxis_opts=opts.AxisOpts(type_=\"category\", is_scale=True, is_inverse=True, axislabel_opts=opts.LabelOpts(is_show=True, rotate=-60)),\n",
    "                yaxis_opts=opts.AxisOpts(is_scale=True, is_inverse=False, axislabel_opts=opts.LabelOpts(is_show=True, position=\"right\")),\n",
    "                tooltip_opts=opts.TooltipOpts(is_show=True))\\\n",
    "            .set_series_opts(label_opts=opts.LabelOpts(is_show=True, position=\"insideBottom\"))\n",
    "\n",
    "        heat_map.render()\n",
    "        \n",
    "\n",
    "    def drop_hight_corr(self):\n",
    "\n",
    "        \n",
    "        cor_pair = self.pairs\n",
    "        cor_pair.sort(key=lambda x:x[2],reverse=True)\n",
    "        del_pair = []\n",
    "        del_col = []\n",
    "        for item in cor_pair:\n",
    "            if (item[0]==item[1])|(set(item[:2]) in del_pair)|(item[0] in del_col)|(item[1] in del_col):\n",
    "                continue\n",
    "\n",
    "            if item[2]>self.threshold:\n",
    "                c1 = self.corr.iloc[item[0],[x for x in range(self.corr.shape[0]) if x not in del_col]].mean()\n",
    "                c2 = self.corr.iloc[item[1],[x for x in range(self.corr.shape[0]) if x not in del_col]].mean()\n",
    "\n",
    "                del_col.append(item[0] if c1>c2 else item[1])\n",
    "                del_pair.append(set(item[:2]))\n",
    "            else:\n",
    "                break\n",
    "            \n",
    "        del_col_name = self.corr.iloc[:,del_col].columns\n",
    "        \n",
    "        return list(del_col_name)\n",
    "\n",
    "#  Response variables(y) dataset\n",
    "if __name__ == '__main__':\n",
    "    c = cal_corr(df=data_y, n_clusters=5, threshold=0.8)\n",
    "    c.corr_heat_map()\n",
    "    del_col = c.drop_hight_corr()\n",
    "    print(del_col)"
   ]
  },
  {
   "cell_type": "markdown",
   "id": "61ebea54",
   "metadata": {},
   "source": [
    "## PCA \n"
   ]
  },
  {
   "cell_type": "markdown",
   "id": "481b50bc",
   "metadata": {},
   "source": [
    "# Train/Test"
   ]
  },
  {
   "cell_type": "code",
   "execution_count": 570,
   "id": "9b3af3dd",
   "metadata": {},
   "outputs": [],
   "source": [
    "categ_y =[\"HCHOLBC\",\"CHOLNTR\", \"HDLCHREB\", \"LDLNTR\", \"HSUGBC\"] # categorical response variables\n",
    "Conti_y = [\"BMISC\",\"DIASTOL\", \"SYSTOL\"] # numeric response variables"
   ]
  },
  {
   "cell_type": "code",
   "execution_count": 575,
   "id": "e73a945a",
   "metadata": {},
   "outputs": [],
   "source": [
    "col_target = ['HCHOLBC']# can change\n",
    "y_target = wholedata[col_target]\n",
    "target = y_target.values\n",
    "x = data_x = wholedata.iloc[:,11:206]# can change to the new dataset after PCA   pd.concat([new_nutr_data,data_conf],axis=1)\n",
    "y = wholedata[col_target]\n",
    "x_train,x_test,y_train,y_test = train_test_split(x,y,train_size=0.8)"
   ]
  },
  {
   "cell_type": "code",
   "execution_count": 576,
   "id": "f84d1a21",
   "metadata": {},
   "outputs": [
    {
     "data": {
      "text/plain": [
       "0.7955706984667802"
      ]
     },
     "execution_count": 576,
     "metadata": {},
     "output_type": "execute_result"
    }
   ],
   "source": [
    "# Just a test of the LogisticRegression\n",
    "log_reg = LogisticRegression()\n",
    "log_reg.fit(x_train,y_train)\n",
    "y_predict = log_reg.predict(x_test)\n",
    "log_reg.score(x_test,y_test)"
   ]
  },
  {
   "cell_type": "markdown",
   "id": "f8a33420",
   "metadata": {},
   "source": [
    "# Confusion matrix (for categorical response variables)"
   ]
  },
  {
   "cell_type": "code",
   "execution_count": 577,
   "id": "1b2c5d0f",
   "metadata": {},
   "outputs": [],
   "source": [
    "def plot_ConfusionMatrix(confusionMatrix, response, title=None,  cmap=plt.cm.Blues):\n",
    "    #labels shows different categories of the response variable\n",
    "    labels = np.array(data_y[response]).tolist()\n",
    "    plt.rclabels = np.array(data_y[response]).tolist()\n",
    "    new_labels=[]\n",
    "    for i in labels:\n",
    "        if i not in new_labels:\n",
    "            new_labels.append(i)\n",
    "    # Nomalization\n",
    "    confusionMatrix = confusionMatrix.astype('float') / confusionMatrix.sum(axis=1)[:, np.newaxis]\n",
    "    str_confusionMatrix = confusionMatrix.astype(np.str).tolist()\n",
    "    for row in str_confusionMatrix:\n",
    "        print('\\t'.join(row))\n",
    "    for i in range(confusionMatrix.shape[0]):\n",
    "        for j in range(confusionMatrix.shape[1]):\n",
    "            if int(confusionMatrix[i, j]*100 + 0.5) == 0:\n",
    "                confusionMatrix[i, j]=0\n",
    "    fig, ax = plt.subplots()\n",
    "    im = ax.imshow(cm, interpolation='nearest', cmap=cmap)\n",
    "    # ax.figure.colorbar(im, ax=ax) \n",
    "    ax.set(xticks=np.arange(confusionMatrix.shape[1]),\n",
    "           yticks=np.arange(confusionMatrix.shape[0]),\n",
    "           xticklabels=new_labels, yticklabels=new_labels,\n",
    "           title=title,\n",
    "           ylabel='Actual',\n",
    "           xlabel='Predicted')\n",
    "    # grids\n",
    "    ax.set_xticks(np.arange(confusionMatrix.shape[1]+1)-.5, minor=True)\n",
    "    ax.set_yticks(np.arange(confusionMatrix.shape[0]+1)-.5, minor=True)\n",
    "    ax.grid(which=\"minor\", color=\"gray\", linestyle='-', linewidth=0.2)\n",
    "    ax.tick_params(which=\"minor\", bottom=False, left=False)\n",
    "    plt.setp(ax.get_xticklabels(), rotation=45, ha=\"right\",\n",
    "             rotation_mode=\"anchor\")\n",
    "    fmt = 'd'\n",
    "    thresh = confusionMatrix.max() / 2.\n",
    "    for i in range(confusionMatrix.shape[0]):\n",
    "        for j in range(confusionMatrix.shape[1]):\n",
    "            if int(confusionMatrix[i, j]*100 + 0.5) > 0:\n",
    "                ax.text(j, i, format(int(confusionMatrix[i, j]*100 + 0.5) , fmt) + '%',\n",
    "                        ha=\"center\", va=\"center\",\n",
    "                        color=\"white\"  if confusionMatrix[i, j] > thresh else \"black\")\n",
    "    fig.tight_layout()\n",
    "    plt.savefig('ConfusionMatrix of response.jpg', dpi=300)\n",
    "    plt.show()"
   ]
  },
  {
   "cell_type": "code",
   "execution_count": 578,
   "id": "f328b81d",
   "metadata": {},
   "outputs": [
    {
     "name": "stdout",
     "output_type": "stream",
     "text": [
      "0.0\t0.013157894736842105\t0.0\t0.9868421052631579\n",
      "0.0\t0.0\t0.0\t1.0\n",
      "0.0\t0.0\t0.023255813953488372\t0.9767441860465116\n",
      "0.0\t0.0\t0.0021413276231263384\t0.9978586723768736\n"
     ]
    },
    {
     "data": {
      "image/png": "[encoded data removed]",
      "text/plain": [
       "<Figure size 432x288 with 1 Axes>"
      ]
     },
     "metadata": {
      "needs_background": "light"
     },
     "output_type": "display_data"
    }
   ],
   "source": [
    "# apply the function to the above LogisticRegression\n",
    "y_true = y_test\n",
    "y_pred = y_predict\n",
    "cm = confusion_matrix(y_true, y_pred)\n",
    "plot_ConfusionMatrix(cm,response=['HCHOLBC'], title=None,  cmap=plt.cm.Blues)\n",
    "## show the % of "
   ]
  },
  {
   "cell_type": "code",
   "execution_count": null,
   "id": "5c8e8e51",
   "metadata": {},
   "outputs": [],
   "source": []
  }
 ],
 "metadata": {
  "kernelspec": {
   "display_name": "Python 3",
   "language": "python",
   "name": "python3"
  },
  "language_info": {
   "codemirror_mode": {
    "name": "ipython",
    "version": 3
   },
   "file_extension": ".py",
   "mimetype": "text/x-python",
   "name": "python",
   "nbconvert_exporter": "python",
   "pygments_lexer": "ipython3",
   "version": "3.8.8"
  },
  "toc": {
   "base_numbering": 1,
   "nav_menu": {},
   "number_sections": true,
   "sideBar": true,
   "skip_h1_title": false,
   "title_cell": "Table of Contents",
   "title_sidebar": "Contents",
   "toc_cell": false,
   "toc_position": {
    "height": "calc(100% - 180px)",
    "left": "10px",
    "top": "150px",
    "width": "164.988px"
   },
   "toc_section_display": true,
   "toc_window_display": true
  }
 },
 "nbformat": 4,
 "nbformat_minor": 5
}
